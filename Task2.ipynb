{
 "cells": [
  {
   "cell_type": "markdown",
   "metadata": {},
   "source": [
    "# Text Summarization System\n",
    "\n",
    "This notebook demonstrates how to build a system that summarizes lengthy articles using extractive and abstractive methods.\n",
    "\n",
    "**Dataset:** CNN/Daily Mail\n",
    "\n",
    "**Methods Used:**\n",
    "- Extractive Summarization using spaCy + TF-IDF\n",
    "- Abstractive Summarization using BART from HuggingFace\n",
    "- Evaluation using ROUGE"
   ]
  },
  {
   "cell_type": "code",
   "execution_count": 1,
   "metadata": {},
   "outputs": [
    {
     "name": "stdout",
     "output_type": "stream",
     "text": [
      "Requirement already satisfied: transformers in c:\\users\\arhum\\anaconda3\\lib\\site-packages (4.32.1)\n",
      "Requirement already satisfied: datasets in c:\\users\\arhum\\anaconda3\\lib\\site-packages (2.12.0)\n",
      "Requirement already satisfied: spacy in c:\\users\\arhum\\anaconda3\\lib\\site-packages (3.8.5)\n",
      "Requirement already satisfied: scikit-learn in c:\\users\\arhum\\anaconda3\\lib\\site-packages (1.3.0)\n",
      "Requirement already satisfied: filelock in c:\\users\\arhum\\anaconda3\\lib\\site-packages (from transformers) (3.9.0)\n",
      "Requirement already satisfied: huggingface-hub<1.0,>=0.15.1 in c:\\users\\arhum\\anaconda3\\lib\\site-packages (from transformers) (0.15.1)\n",
      "Requirement already satisfied: numpy>=1.17 in c:\\users\\arhum\\anaconda3\\lib\\site-packages (from transformers) (1.24.3)\n",
      "Requirement already satisfied: packaging>=20.0 in c:\\users\\arhum\\anaconda3\\lib\\site-packages (from transformers) (23.1)\n",
      "Requirement already satisfied: pyyaml>=5.1 in c:\\users\\arhum\\anaconda3\\lib\\site-packages (from transformers) (6.0)\n",
      "Requirement already satisfied: regex!=2019.12.17 in c:\\users\\arhum\\anaconda3\\lib\\site-packages (from transformers) (2022.7.9)\n",
      "Requirement already satisfied: requests in c:\\users\\arhum\\anaconda3\\lib\\site-packages (from transformers) (2.31.0)\n",
      "Requirement already satisfied: tokenizers!=0.11.3,<0.14,>=0.11.1 in c:\\users\\arhum\\anaconda3\\lib\\site-packages (from transformers) (0.13.2)\n",
      "Requirement already satisfied: safetensors>=0.3.1 in c:\\users\\arhum\\anaconda3\\lib\\site-packages (from transformers) (0.3.2)\n",
      "Requirement already satisfied: tqdm>=4.27 in c:\\users\\arhum\\anaconda3\\lib\\site-packages (from transformers) (4.65.0)\n",
      "Requirement already satisfied: pyarrow>=8.0.0 in c:\\users\\arhum\\anaconda3\\lib\\site-packages (from datasets) (11.0.0)\n",
      "Requirement already satisfied: dill<0.3.7,>=0.3.0 in c:\\users\\arhum\\anaconda3\\lib\\site-packages (from datasets) (0.3.6)\n",
      "Requirement already satisfied: pandas in c:\\users\\arhum\\anaconda3\\lib\\site-packages (from datasets) (2.0.3)\n",
      "Requirement already satisfied: xxhash in c:\\users\\arhum\\anaconda3\\lib\\site-packages (from datasets) (2.0.2)\n",
      "Requirement already satisfied: multiprocess in c:\\users\\arhum\\anaconda3\\lib\\site-packages (from datasets) (0.70.14)\n",
      "Requirement already satisfied: fsspec[http]>=2021.11.1 in c:\\users\\arhum\\anaconda3\\lib\\site-packages (from datasets) (2023.4.0)\n",
      "Requirement already satisfied: aiohttp in c:\\users\\arhum\\anaconda3\\lib\\site-packages (from datasets) (3.8.5)\n",
      "Requirement already satisfied: responses<0.19 in c:\\users\\arhum\\anaconda3\\lib\\site-packages (from datasets) (0.13.3)\n",
      "Requirement already satisfied: spacy-legacy<3.1.0,>=3.0.11 in c:\\users\\arhum\\anaconda3\\lib\\site-packages (from spacy) (3.0.12)\n",
      "Requirement already satisfied: spacy-loggers<2.0.0,>=1.0.0 in c:\\users\\arhum\\anaconda3\\lib\\site-packages (from spacy) (1.0.5)\n",
      "Requirement already satisfied: murmurhash<1.1.0,>=0.28.0 in c:\\users\\arhum\\anaconda3\\lib\\site-packages (from spacy) (1.0.12)\n",
      "Requirement already satisfied: cymem<2.1.0,>=2.0.2 in c:\\users\\arhum\\anaconda3\\lib\\site-packages (from spacy) (2.0.11)\n",
      "Requirement already satisfied: preshed<3.1.0,>=3.0.2 in c:\\users\\arhum\\anaconda3\\lib\\site-packages (from spacy) (3.0.9)\n",
      "Requirement already satisfied: thinc<8.4.0,>=8.3.4 in c:\\users\\arhum\\anaconda3\\lib\\site-packages (from spacy) (8.3.4)\n",
      "Requirement already satisfied: wasabi<1.2.0,>=0.9.1 in c:\\users\\arhum\\anaconda3\\lib\\site-packages (from spacy) (1.1.3)\n",
      "Requirement already satisfied: srsly<3.0.0,>=2.4.3 in c:\\users\\arhum\\anaconda3\\lib\\site-packages (from spacy) (2.5.1)\n",
      "Requirement already satisfied: catalogue<2.1.0,>=2.0.6 in c:\\users\\arhum\\anaconda3\\lib\\site-packages (from spacy) (2.0.10)\n",
      "Requirement already satisfied: weasel<0.5.0,>=0.1.0 in c:\\users\\arhum\\anaconda3\\lib\\site-packages (from spacy) (0.4.1)\n",
      "Requirement already satisfied: typer<1.0.0,>=0.3.0 in c:\\users\\arhum\\anaconda3\\lib\\site-packages (from spacy) (0.15.3)\n",
      "Requirement already satisfied: pydantic!=1.8,!=1.8.1,<3.0.0,>=1.7.4 in c:\\users\\arhum\\anaconda3\\lib\\site-packages (from spacy) (1.10.8)\n",
      "Requirement already satisfied: jinja2 in c:\\users\\arhum\\anaconda3\\lib\\site-packages (from spacy) (3.1.2)\n",
      "Requirement already satisfied: setuptools in c:\\users\\arhum\\anaconda3\\lib\\site-packages (from spacy) (68.0.0)\n",
      "Requirement already satisfied: langcodes<4.0.0,>=3.2.0 in c:\\users\\arhum\\anaconda3\\lib\\site-packages (from spacy) (3.5.0)\n",
      "Requirement already satisfied: scipy>=1.5.0 in c:\\users\\arhum\\anaconda3\\lib\\site-packages (from scikit-learn) (1.11.1)\n",
      "Requirement already satisfied: joblib>=1.1.1 in c:\\users\\arhum\\anaconda3\\lib\\site-packages (from scikit-learn) (1.2.0)\n",
      "Requirement already satisfied: threadpoolctl>=2.0.0 in c:\\users\\arhum\\anaconda3\\lib\\site-packages (from scikit-learn) (2.2.0)\n",
      "Requirement already satisfied: attrs>=17.3.0 in c:\\users\\arhum\\anaconda3\\lib\\site-packages (from aiohttp->datasets) (22.1.0)\n",
      "Requirement already satisfied: charset-normalizer<4.0,>=2.0 in c:\\users\\arhum\\anaconda3\\lib\\site-packages (from aiohttp->datasets) (2.0.4)\n",
      "Requirement already satisfied: multidict<7.0,>=4.5 in c:\\users\\arhum\\anaconda3\\lib\\site-packages (from aiohttp->datasets) (6.0.2)\n",
      "Requirement already satisfied: async-timeout<5.0,>=4.0.0a3 in c:\\users\\arhum\\anaconda3\\lib\\site-packages (from aiohttp->datasets) (4.0.2)\n",
      "Requirement already satisfied: yarl<2.0,>=1.0 in c:\\users\\arhum\\anaconda3\\lib\\site-packages (from aiohttp->datasets) (1.8.1)\n",
      "Requirement already satisfied: frozenlist>=1.1.1 in c:\\users\\arhum\\anaconda3\\lib\\site-packages (from aiohttp->datasets) (1.3.3)\n",
      "Requirement already satisfied: aiosignal>=1.1.2 in c:\\users\\arhum\\anaconda3\\lib\\site-packages (from aiohttp->datasets) (1.2.0)\n",
      "Requirement already satisfied: typing-extensions>=3.7.4.3 in c:\\users\\arhum\\anaconda3\\lib\\site-packages (from huggingface-hub<1.0,>=0.15.1->transformers) (4.13.2)\n",
      "Requirement already satisfied: language-data>=1.2 in c:\\users\\arhum\\anaconda3\\lib\\site-packages (from langcodes<4.0.0,>=3.2.0->spacy) (1.3.0)\n",
      "Requirement already satisfied: idna<4,>=2.5 in c:\\users\\arhum\\anaconda3\\lib\\site-packages (from requests->transformers) (3.4)\n",
      "Requirement already satisfied: urllib3<3,>=1.21.1 in c:\\users\\arhum\\anaconda3\\lib\\site-packages (from requests->transformers) (1.26.16)\n",
      "Requirement already satisfied: certifi>=2017.4.17 in c:\\users\\arhum\\anaconda3\\lib\\site-packages (from requests->transformers) (2023.11.17)\n",
      "Requirement already satisfied: six in c:\\users\\arhum\\anaconda3\\lib\\site-packages (from responses<0.19->datasets) (1.16.0)\n",
      "Requirement already satisfied: blis<1.3.0,>=1.2.0 in c:\\users\\arhum\\anaconda3\\lib\\site-packages (from thinc<8.4.0,>=8.3.4->spacy) (1.2.1)\n",
      "Requirement already satisfied: confection<1.0.0,>=0.0.1 in c:\\users\\arhum\\anaconda3\\lib\\site-packages (from thinc<8.4.0,>=8.3.4->spacy) (0.1.5)\n",
      "Requirement already satisfied: colorama in c:\\users\\arhum\\anaconda3\\lib\\site-packages (from tqdm>=4.27->transformers) (0.4.6)\n",
      "Requirement already satisfied: click>=8.0.0 in c:\\users\\arhum\\anaconda3\\lib\\site-packages (from typer<1.0.0,>=0.3.0->spacy) (8.0.4)\n",
      "Requirement already satisfied: shellingham>=1.3.0 in c:\\users\\arhum\\anaconda3\\lib\\site-packages (from typer<1.0.0,>=0.3.0->spacy) (1.5.4)\n",
      "Requirement already satisfied: rich>=10.11.0 in c:\\users\\arhum\\anaconda3\\lib\\site-packages (from typer<1.0.0,>=0.3.0->spacy) (14.0.0)\n",
      "Requirement already satisfied: cloudpathlib<1.0.0,>=0.7.0 in c:\\users\\arhum\\anaconda3\\lib\\site-packages (from weasel<0.5.0,>=0.1.0->spacy) (0.21.0)\n",
      "Requirement already satisfied: smart-open<8.0.0,>=5.2.1 in c:\\users\\arhum\\anaconda3\\lib\\site-packages (from weasel<0.5.0,>=0.1.0->spacy) (5.2.1)\n",
      "Requirement already satisfied: MarkupSafe>=2.0 in c:\\users\\arhum\\anaconda3\\lib\\site-packages (from jinja2->spacy) (2.1.1)\n",
      "Requirement already satisfied: python-dateutil>=2.8.2 in c:\\users\\arhum\\anaconda3\\lib\\site-packages (from pandas->datasets) (2.8.2)\n",
      "Requirement already satisfied: pytz>=2020.1 in c:\\users\\arhum\\anaconda3\\lib\\site-packages (from pandas->datasets) (2023.3.post1)\n",
      "Requirement already satisfied: tzdata>=2022.1 in c:\\users\\arhum\\anaconda3\\lib\\site-packages (from pandas->datasets) (2023.3)\n",
      "Requirement already satisfied: marisa-trie>=1.1.0 in c:\\users\\arhum\\anaconda3\\lib\\site-packages (from language-data>=1.2->langcodes<4.0.0,>=3.2.0->spacy) (1.2.1)\n",
      "Requirement already satisfied: markdown-it-py>=2.2.0 in c:\\users\\arhum\\anaconda3\\lib\\site-packages (from rich>=10.11.0->typer<1.0.0,>=0.3.0->spacy) (2.2.0)\n",
      "Requirement already satisfied: pygments<3.0.0,>=2.13.0 in c:\\users\\arhum\\anaconda3\\lib\\site-packages (from rich>=10.11.0->typer<1.0.0,>=0.3.0->spacy) (2.15.1)\n",
      "Requirement already satisfied: mdurl~=0.1 in c:\\users\\arhum\\anaconda3\\lib\\site-packages (from markdown-it-py>=2.2.0->rich>=10.11.0->typer<1.0.0,>=0.3.0->spacy) (0.1.0)\n",
      "Collecting en-core-web-sm==3.8.0\n",
      "  Downloading https://github.com/explosion/spacy-models/releases/download/en_core_web_sm-3.8.0/en_core_web_sm-3.8.0-py3-none-any.whl (12.8 MB)\n",
      "     ---------------------------------------- 0.0/12.8 MB ? eta -:--:--\n",
      "     ---------------------------------------- 0.0/12.8 MB ? eta -:--:--\n",
      "     ---------------------------------------- 0.0/12.8 MB ? eta -:--:--\n",
      "     ---------------------------------------- 0.0/12.8 MB ? eta -:--:--\n",
      "     ---------------------------------------- 0.0/12.8 MB ? eta -:--:--\n",
      "     ---------------------------------------- 0.0/12.8 MB ? eta -:--:--\n",
      "     ---------------------------------------- 0.0/12.8 MB ? eta -:--:--\n",
      "     ---------------------------------------- 0.0/12.8 MB ? eta -:--:--\n",
      "     ---------------------------------------- 0.0/12.8 MB 98.1 kB/s eta 0:02:11\n",
      "     ---------------------------------------- 0.0/12.8 MB 98.1 kB/s eta 0:02:11\n",
      "     --------------------------------------- 0.1/12.8 MB 169.9 kB/s eta 0:01:15\n",
      "     --------------------------------------- 0.1/12.8 MB 232.7 kB/s eta 0:00:55\n",
      "      -------------------------------------- 0.2/12.8 MB 443.5 kB/s eta 0:00:29\n",
      "     - ------------------------------------- 0.3/12.8 MB 566.9 kB/s eta 0:00:22\n",
      "     - ------------------------------------- 0.5/12.8 MB 814.7 kB/s eta 0:00:16\n",
      "     -- ------------------------------------- 0.7/12.8 MB 1.1 MB/s eta 0:00:12\n",
      "     -- ------------------------------------- 0.8/12.8 MB 1.2 MB/s eta 0:00:11\n",
      "     -- ------------------------------------- 0.8/12.8 MB 1.2 MB/s eta 0:00:11\n",
      "     -- ------------------------------------- 0.8/12.8 MB 1.2 MB/s eta 0:00:11\n",
      "     --- ------------------------------------ 1.1/12.8 MB 1.2 MB/s eta 0:00:10\n",
      "     --- ------------------------------------ 1.2/12.8 MB 1.3 MB/s eta 0:00:09\n",
      "     ---- ----------------------------------- 1.5/12.8 MB 1.6 MB/s eta 0:00:07\n",
      "     ------ --------------------------------- 2.0/12.8 MB 1.9 MB/s eta 0:00:06\n",
      "     ------ --------------------------------- 2.1/12.8 MB 1.9 MB/s eta 0:00:06\n",
      "     ------ --------------------------------- 2.2/12.8 MB 1.9 MB/s eta 0:00:06\n",
      "     ------- -------------------------------- 2.4/12.8 MB 2.0 MB/s eta 0:00:06\n",
      "     ------- -------------------------------- 2.5/12.8 MB 2.0 MB/s eta 0:00:06\n",
      "     -------- ------------------------------- 2.7/12.8 MB 2.1 MB/s eta 0:00:05\n",
      "     -------- ------------------------------- 2.9/12.8 MB 2.2 MB/s eta 0:00:05\n",
      "     -------- ------------------------------- 2.9/12.8 MB 2.2 MB/s eta 0:00:05\n",
      "     --------- ------------------------------ 3.2/12.8 MB 2.2 MB/s eta 0:00:05\n",
      "     ---------- ----------------------------- 3.3/12.8 MB 2.3 MB/s eta 0:00:05\n",
      "     ---------- ----------------------------- 3.5/12.8 MB 2.3 MB/s eta 0:00:05\n",
      "     ----------- ---------------------------- 3.7/12.8 MB 2.3 MB/s eta 0:00:04\n",
      "     ----------- ---------------------------- 3.8/12.8 MB 2.3 MB/s eta 0:00:04\n",
      "     ------------ --------------------------- 3.9/12.8 MB 2.4 MB/s eta 0:00:04\n",
      "     ------------ --------------------------- 4.1/12.8 MB 2.4 MB/s eta 0:00:04\n",
      "     ------------- -------------------------- 4.2/12.8 MB 2.4 MB/s eta 0:00:04\n",
      "     ------------- -------------------------- 4.3/12.8 MB 2.4 MB/s eta 0:00:04\n",
      "     ------------- -------------------------- 4.3/12.8 MB 2.4 MB/s eta 0:00:04\n",
      "     ------------- -------------------------- 4.3/12.8 MB 2.4 MB/s eta 0:00:04\n",
      "     -------------- ------------------------- 4.5/12.8 MB 2.3 MB/s eta 0:00:04\n",
      "     -------------- ------------------------- 4.6/12.8 MB 2.3 MB/s eta 0:00:04\n",
      "     -------------- ------------------------- 4.7/12.8 MB 2.3 MB/s eta 0:00:04\n",
      "     --------------- ------------------------ 4.9/12.8 MB 2.3 MB/s eta 0:00:04\n",
      "     --------------- ------------------------ 5.0/12.8 MB 2.3 MB/s eta 0:00:04\n",
      "     ---------------- ----------------------- 5.2/12.8 MB 2.4 MB/s eta 0:00:04\n",
      "     ---------------- ----------------------- 5.3/12.8 MB 2.4 MB/s eta 0:00:04\n",
      "     ----------------- ---------------------- 5.5/12.8 MB 2.4 MB/s eta 0:00:04\n",
      "     ----------------- ---------------------- 5.6/12.8 MB 2.4 MB/s eta 0:00:04\n",
      "     ----------------- ---------------------- 5.7/12.8 MB 2.4 MB/s eta 0:00:03\n",
      "     ----------------- ---------------------- 5.7/12.8 MB 2.4 MB/s eta 0:00:03\n",
      "     ----------------- ---------------------- 5.7/12.8 MB 2.4 MB/s eta 0:00:03\n",
      "     ----------------- ---------------------- 5.7/12.8 MB 2.4 MB/s eta 0:00:03\n",
      "     ----------------- ---------------------- 5.7/12.8 MB 2.4 MB/s eta 0:00:03\n",
      "     ----------------- ---------------------- 5.7/12.8 MB 2.4 MB/s eta 0:00:03\n",
      "     ----------------- ---------------------- 5.7/12.8 MB 2.4 MB/s eta 0:00:03\n",
      "     ----------------- ---------------------- 5.7/12.8 MB 2.4 MB/s eta 0:00:03\n",
      "     ----------------- ---------------------- 5.7/12.8 MB 2.4 MB/s eta 0:00:03\n",
      "     ----------------- ---------------------- 5.7/12.8 MB 2.4 MB/s eta 0:00:03\n",
      "     ----------------- ---------------------- 5.7/12.8 MB 2.4 MB/s eta 0:00:03\n",
      "     ----------------- ---------------------- 5.7/12.8 MB 2.4 MB/s eta 0:00:03\n",
      "     ----------------- ---------------------- 5.7/12.8 MB 2.4 MB/s eta 0:00:03\n",
      "     ----------------- ---------------------- 5.7/12.8 MB 2.4 MB/s eta 0:00:03\n",
      "     ----------------- ---------------------- 5.7/12.8 MB 2.4 MB/s eta 0:00:03\n",
      "     ----------------- ---------------------- 5.7/12.8 MB 1.9 MB/s eta 0:00:04\n",
      "     ----------------- ---------------------- 5.7/12.8 MB 1.9 MB/s eta 0:00:04\n",
      "     ----------------- ---------------------- 5.7/12.8 MB 1.8 MB/s eta 0:00:04\n",
      "     ------------------ --------------------- 5.8/12.8 MB 1.8 MB/s eta 0:00:04\n",
      "     ------------------ --------------------- 5.9/12.8 MB 1.8 MB/s eta 0:00:04\n",
      "     ------------------ --------------------- 6.0/12.8 MB 1.8 MB/s eta 0:00:04\n",
      "     ------------------ --------------------- 6.1/12.8 MB 1.8 MB/s eta 0:00:04\n",
      "     ------------------ --------------------- 6.1/12.8 MB 1.8 MB/s eta 0:00:04\n",
      "     ------------------- -------------------- 6.3/12.8 MB 1.8 MB/s eta 0:00:04\n",
      "     -------------------- ------------------- 6.4/12.8 MB 1.8 MB/s eta 0:00:04\n",
      "     -------------------- ------------------- 6.5/12.8 MB 1.8 MB/s eta 0:00:04\n",
      "     -------------------- ------------------- 6.6/12.8 MB 1.8 MB/s eta 0:00:04\n",
      "     --------------------- ------------------ 6.7/12.8 MB 1.8 MB/s eta 0:00:04\n",
      "     --------------------- ------------------ 6.8/12.8 MB 1.8 MB/s eta 0:00:04\n",
      "     --------------------- ------------------ 6.9/12.8 MB 1.8 MB/s eta 0:00:04\n",
      "     --------------------- ------------------ 7.0/12.8 MB 1.9 MB/s eta 0:00:04\n",
      "     --------------------- ------------------ 7.0/12.8 MB 1.9 MB/s eta 0:00:04\n",
      "     --------------------- ------------------ 7.0/12.8 MB 1.9 MB/s eta 0:00:04\n",
      "     --------------------- ------------------ 7.0/12.8 MB 1.9 MB/s eta 0:00:04\n",
      "     ---------------------- ----------------- 7.1/12.8 MB 1.8 MB/s eta 0:00:04\n",
      "     ---------------------- ----------------- 7.2/12.8 MB 1.8 MB/s eta 0:00:04\n",
      "     ---------------------- ----------------- 7.3/12.8 MB 1.8 MB/s eta 0:00:04\n",
      "     ---------------------- ----------------- 7.3/12.8 MB 1.8 MB/s eta 0:00:04\n",
      "     ----------------------- ---------------- 7.4/12.8 MB 1.8 MB/s eta 0:00:04\n",
      "     ----------------------- ---------------- 7.5/12.8 MB 1.8 MB/s eta 0:00:03\n",
      "     ----------------------- ---------------- 7.5/12.8 MB 1.8 MB/s eta 0:00:03\n",
      "     ------------------------ --------------- 7.7/12.8 MB 1.8 MB/s eta 0:00:03\n",
      "     ------------------------ --------------- 7.8/12.8 MB 1.8 MB/s eta 0:00:03\n",
      "     ------------------------ --------------- 7.8/12.8 MB 1.8 MB/s eta 0:00:03\n",
      "     ------------------------ --------------- 7.9/12.8 MB 1.8 MB/s eta 0:00:03\n",
      "     ------------------------ --------------- 7.9/12.8 MB 1.8 MB/s eta 0:00:03\n",
      "     ------------------------- -------------- 8.0/12.8 MB 1.7 MB/s eta 0:00:03\n",
      "     ------------------------- -------------- 8.1/12.8 MB 1.7 MB/s eta 0:00:03\n",
      "     ------------------------- -------------- 8.1/12.8 MB 1.7 MB/s eta 0:00:03\n",
      "     ------------------------- -------------- 8.2/12.8 MB 1.7 MB/s eta 0:00:03\n",
      "     ------------------------- -------------- 8.2/12.8 MB 1.7 MB/s eta 0:00:03\n",
      "     ------------------------- -------------- 8.3/12.8 MB 1.7 MB/s eta 0:00:03\n",
      "     ------------------------- -------------- 8.3/12.8 MB 1.7 MB/s eta 0:00:03\n",
      "     -------------------------- ------------- 8.4/12.8 MB 1.7 MB/s eta 0:00:03\n",
      "     -------------------------- ------------- 8.4/12.8 MB 1.7 MB/s eta 0:00:03\n",
      "     -------------------------- ------------- 8.4/12.8 MB 1.7 MB/s eta 0:00:03\n",
      "     -------------------------- ------------- 8.4/12.8 MB 1.7 MB/s eta 0:00:03\n",
      "     -------------------------- ------------- 8.5/12.8 MB 1.6 MB/s eta 0:00:03\n",
      "     -------------------------- ------------- 8.5/12.8 MB 1.6 MB/s eta 0:00:03\n",
      "     -------------------------- ------------- 8.5/12.8 MB 1.6 MB/s eta 0:00:03\n",
      "     -------------------------- ------------- 8.5/12.8 MB 1.6 MB/s eta 0:00:03\n",
      "     -------------------------- ------------- 8.5/12.8 MB 1.6 MB/s eta 0:00:03\n",
      "     -------------------------- ------------- 8.5/12.8 MB 1.6 MB/s eta 0:00:03\n",
      "     -------------------------- ------------- 8.5/12.8 MB 1.6 MB/s eta 0:00:03\n",
      "     -------------------------- ------------- 8.5/12.8 MB 1.6 MB/s eta 0:00:03\n",
      "     -------------------------- ------------- 8.6/12.8 MB 1.5 MB/s eta 0:00:03\n",
      "     -------------------------- ------------- 8.6/12.8 MB 1.5 MB/s eta 0:00:03\n",
      "     -------------------------- ------------- 8.6/12.8 MB 1.5 MB/s eta 0:00:03\n",
      "     -------------------------- ------------- 8.6/12.8 MB 1.5 MB/s eta 0:00:03\n",
      "     -------------------------- ------------- 8.6/12.8 MB 1.5 MB/s eta 0:00:03\n",
      "     -------------------------- ------------- 8.6/12.8 MB 1.5 MB/s eta 0:00:03\n",
      "     -------------------------- ------------- 8.6/12.8 MB 1.5 MB/s eta 0:00:03\n",
      "     -------------------------- ------------- 8.6/12.8 MB 1.5 MB/s eta 0:00:03\n",
      "     -------------------------- ------------- 8.6/12.8 MB 1.5 MB/s eta 0:00:03\n",
      "     -------------------------- ------------- 8.6/12.8 MB 1.5 MB/s eta 0:00:03\n",
      "     -------------------------- ------------- 8.6/12.8 MB 1.5 MB/s eta 0:00:03\n",
      "     -------------------------- ------------- 8.6/12.8 MB 1.5 MB/s eta 0:00:03\n",
      "     -------------------------- ------------- 8.6/12.8 MB 1.5 MB/s eta 0:00:03\n",
      "     -------------------------- ------------- 8.6/12.8 MB 1.5 MB/s eta 0:00:03\n",
      "     -------------------------- ------------- 8.6/12.8 MB 1.5 MB/s eta 0:00:03\n",
      "     -------------------------- ------------- 8.6/12.8 MB 1.5 MB/s eta 0:00:03\n",
      "     -------------------------- ------------- 8.6/12.8 MB 1.5 MB/s eta 0:00:03\n",
      "     -------------------------- ------------- 8.6/12.8 MB 1.5 MB/s eta 0:00:03\n",
      "     -------------------------- ------------- 8.6/12.8 MB 1.5 MB/s eta 0:00:03\n",
      "     -------------------------- ------------- 8.6/12.8 MB 1.5 MB/s eta 0:00:03\n",
      "     -------------------------- ------------- 8.6/12.8 MB 1.5 MB/s eta 0:00:03\n",
      "     -------------------------- ------------- 8.6/12.8 MB 1.5 MB/s eta 0:00:03\n",
      "     -------------------------- ------------- 8.6/12.8 MB 1.5 MB/s eta 0:00:03\n",
      "     -------------------------- ------------- 8.6/12.8 MB 1.5 MB/s eta 0:00:03\n",
      "     -------------------------- ------------- 8.6/12.8 MB 1.5 MB/s eta 0:00:03\n",
      "     -------------------------- ------------- 8.6/12.8 MB 1.5 MB/s eta 0:00:03\n",
      "     -------------------------- ------------- 8.6/12.8 MB 1.5 MB/s eta 0:00:03\n",
      "     -------------------------- ------------- 8.6/12.8 MB 1.5 MB/s eta 0:00:03\n",
      "     -------------------------- ------------- 8.6/12.8 MB 1.5 MB/s eta 0:00:03\n",
      "     -------------------------- ------------- 8.6/12.8 MB 1.5 MB/s eta 0:00:03\n",
      "     -------------------------- ------------- 8.6/12.8 MB 1.5 MB/s eta 0:00:03\n",
      "     -------------------------- ------------- 8.6/12.8 MB 1.5 MB/s eta 0:00:03\n",
      "     -------------------------- ------------- 8.6/12.8 MB 1.5 MB/s eta 0:00:03\n",
      "     -------------------------- ------------- 8.6/12.8 MB 1.5 MB/s eta 0:00:03\n",
      "     -------------------------- ------------- 8.6/12.8 MB 1.5 MB/s eta 0:00:03\n",
      "     -------------------------- ------------- 8.6/12.8 MB 1.5 MB/s eta 0:00:03\n",
      "     -------------------------- ------------- 8.6/12.8 MB 1.5 MB/s eta 0:00:03\n",
      "     -------------------------- ------------- 8.6/12.8 MB 1.5 MB/s eta 0:00:03\n",
      "     -------------------------- ------------- 8.6/12.8 MB 1.5 MB/s eta 0:00:03\n",
      "     -------------------------- ------------- 8.6/12.8 MB 1.5 MB/s eta 0:00:03\n",
      "     -------------------------- ------------- 8.6/12.8 MB 1.5 MB/s eta 0:00:03\n",
      "     -------------------------- ------------- 8.6/12.8 MB 1.5 MB/s eta 0:00:03\n",
      "     -------------------------- ------------- 8.6/12.8 MB 1.5 MB/s eta 0:00:03\n",
      "     -------------------------- ------------- 8.6/12.8 MB 1.5 MB/s eta 0:00:03\n",
      "     -------------------------- ------------- 8.6/12.8 MB 1.5 MB/s eta 0:00:03\n",
      "     -------------------------- ------------- 8.6/12.8 MB 1.5 MB/s eta 0:00:03\n",
      "     -------------------------- ------------- 8.6/12.8 MB 1.5 MB/s eta 0:00:03\n",
      "     -------------------------- ------------- 8.6/12.8 MB 1.5 MB/s eta 0:00:03\n",
      "     -------------------------- ------------- 8.6/12.8 MB 1.5 MB/s eta 0:00:03\n",
      "     -------------------------- ------------- 8.6/12.8 MB 1.5 MB/s eta 0:00:03\n",
      "     -------------------------- ------------- 8.6/12.8 MB 1.5 MB/s eta 0:00:03\n",
      "     -------------------------- ------------- 8.6/12.8 MB 1.5 MB/s eta 0:00:03\n",
      "     --------------------------- ------------ 8.7/12.8 MB 1.1 MB/s eta 0:00:04\n",
      "     --------------------------- ------------ 8.7/12.8 MB 1.1 MB/s eta 0:00:04\n",
      "     --------------------------- ------------ 8.7/12.8 MB 1.1 MB/s eta 0:00:04\n",
      "     --------------------------- ------------ 8.7/12.8 MB 1.1 MB/s eta 0:00:04\n",
      "     --------------------------- ------------ 8.8/12.8 MB 1.1 MB/s eta 0:00:04\n",
      "     --------------------------- ------------ 8.8/12.8 MB 1.1 MB/s eta 0:00:04\n",
      "     --------------------------- ------------ 8.8/12.8 MB 1.1 MB/s eta 0:00:04\n",
      "     --------------------------- ------------ 8.8/12.8 MB 1.0 MB/s eta 0:00:04\n",
      "     --------------------------- ------------ 8.8/12.8 MB 1.0 MB/s eta 0:00:04\n",
      "     --------------------------- ------------ 8.8/12.8 MB 1.0 MB/s eta 0:00:04\n",
      "     --------------------------- ------------ 8.8/12.8 MB 1.0 MB/s eta 0:00:04\n",
      "     --------------------------- ------------ 8.8/12.8 MB 1.0 MB/s eta 0:00:04\n",
      "     --------------------------- ------------ 8.8/12.8 MB 1.0 MB/s eta 0:00:04\n",
      "     --------------------------- ------------ 8.8/12.8 MB 1.0 MB/s eta 0:00:04\n",
      "     --------------------------- ------------ 8.8/12.8 MB 1.0 MB/s eta 0:00:04\n",
      "     --------------------------- ------------ 8.8/12.8 MB 1.0 MB/s eta 0:00:04\n",
      "     --------------------------- ------------ 8.8/12.8 MB 1.0 MB/s eta 0:00:04\n",
      "     --------------------------- ------------ 8.8/12.8 MB 1.0 MB/s eta 0:00:04\n",
      "     -------------------------- ------------ 8.8/12.8 MB 989.3 kB/s eta 0:00:05\n",
      "     -------------------------- ------------ 8.8/12.8 MB 989.3 kB/s eta 0:00:05\n",
      "     -------------------------- ------------ 8.8/12.8 MB 989.3 kB/s eta 0:00:05\n",
      "     -------------------------- ------------ 8.8/12.8 MB 989.3 kB/s eta 0:00:05\n",
      "     -------------------------- ------------ 8.8/12.8 MB 989.3 kB/s eta 0:00:05\n",
      "     -------------------------- ------------ 8.8/12.8 MB 964.5 kB/s eta 0:00:05\n",
      "     -------------------------- ------------ 8.8/12.8 MB 964.5 kB/s eta 0:00:05\n",
      "     -------------------------- ------------ 8.8/12.8 MB 964.5 kB/s eta 0:00:05\n",
      "     -------------------------- ------------ 8.8/12.8 MB 964.5 kB/s eta 0:00:05\n",
      "     -------------------------- ------------ 8.8/12.8 MB 941.5 kB/s eta 0:00:05\n",
      "     -------------------------- ------------ 8.8/12.8 MB 941.5 kB/s eta 0:00:05\n",
      "     -------------------------- ------------ 8.8/12.8 MB 941.5 kB/s eta 0:00:05\n",
      "     -------------------------- ------------ 8.9/12.8 MB 928.3 kB/s eta 0:00:05\n",
      "     -------------------------- ------------ 8.9/12.8 MB 928.3 kB/s eta 0:00:05\n",
      "     --------------------------- ----------- 8.9/12.8 MB 918.7 kB/s eta 0:00:05\n",
      "     --------------------------- ----------- 8.9/12.8 MB 915.0 kB/s eta 0:00:05\n",
      "     --------------------------- ----------- 8.9/12.8 MB 915.0 kB/s eta 0:00:05\n",
      "     --------------------------- ----------- 8.9/12.8 MB 909.8 kB/s eta 0:00:05\n",
      "     --------------------------- ----------- 8.9/12.8 MB 905.0 kB/s eta 0:00:05\n",
      "     --------------------------- ----------- 8.9/12.8 MB 902.8 kB/s eta 0:00:05\n",
      "     --------------------------- ----------- 8.9/12.8 MB 898.2 kB/s eta 0:00:05\n",
      "     --------------------------- ----------- 9.0/12.8 MB 895.3 kB/s eta 0:00:05\n",
      "     --------------------------- ----------- 9.0/12.8 MB 892.1 kB/s eta 0:00:05\n",
      "     --------------------------- ----------- 9.0/12.8 MB 890.0 kB/s eta 0:00:05\n",
      "     --------------------------- ----------- 9.0/12.8 MB 886.9 kB/s eta 0:00:05\n",
      "     --------------------------- ----------- 9.1/12.8 MB 884.1 kB/s eta 0:00:05\n",
      "     --------------------------- ----------- 9.1/12.8 MB 882.5 kB/s eta 0:00:05\n",
      "     --------------------------- ----------- 9.1/12.8 MB 881.7 kB/s eta 0:00:05\n",
      "     --------------------------- ----------- 9.1/12.8 MB 878.8 kB/s eta 0:00:05\n",
      "     --------------------------- ----------- 9.2/12.8 MB 877.4 kB/s eta 0:00:05\n",
      "     --------------------------- ----------- 9.2/12.8 MB 875.8 kB/s eta 0:00:05\n",
      "     ---------------------------- ---------- 9.2/12.8 MB 873.5 kB/s eta 0:00:05\n",
      "     ---------------------------- ---------- 9.2/12.8 MB 872.8 kB/s eta 0:00:05\n",
      "     ---------------------------- ---------- 9.2/12.8 MB 872.8 kB/s eta 0:00:05\n",
      "     ---------------------------- ---------- 9.2/12.8 MB 872.8 kB/s eta 0:00:05\n",
      "     ---------------------------- ---------- 9.2/12.8 MB 872.8 kB/s eta 0:00:05\n",
      "     ---------------------------- ---------- 9.2/12.8 MB 872.8 kB/s eta 0:00:05\n",
      "     ---------------------------- ---------- 9.2/12.8 MB 872.8 kB/s eta 0:00:05\n",
      "     ---------------------------- ---------- 9.2/12.8 MB 872.8 kB/s eta 0:00:05\n",
      "     ---------------------------- ---------- 9.2/12.8 MB 872.8 kB/s eta 0:00:05\n",
      "     ---------------------------- ---------- 9.2/12.8 MB 842.1 kB/s eta 0:00:05\n",
      "     ---------------------------- ---------- 9.2/12.8 MB 842.1 kB/s eta 0:00:05\n",
      "     ---------------------------- ---------- 9.3/12.8 MB 835.6 kB/s eta 0:00:05\n",
      "     ---------------------------- ---------- 9.3/12.8 MB 835.6 kB/s eta 0:00:05\n",
      "     ---------------------------- ---------- 9.3/12.8 MB 828.3 kB/s eta 0:00:05\n",
      "     ---------------------------- ---------- 9.3/12.8 MB 825.6 kB/s eta 0:00:05\n",
      "     ---------------------------- ---------- 9.3/12.8 MB 823.9 kB/s eta 0:00:05\n",
      "     ---------------------------- ---------- 9.3/12.8 MB 822.6 kB/s eta 0:00:05\n",
      "     ---------------------------- ---------- 9.4/12.8 MB 820.7 kB/s eta 0:00:05\n",
      "     ---------------------------- ---------- 9.4/12.8 MB 819.9 kB/s eta 0:00:05\n",
      "     ---------------------------- ---------- 9.4/12.8 MB 819.2 kB/s eta 0:00:05\n",
      "     ---------------------------- ---------- 9.5/12.8 MB 818.5 kB/s eta 0:00:05\n",
      "     ---------------------------- ---------- 9.5/12.8 MB 817.9 kB/s eta 0:00:05\n",
      "     ----------------------------- --------- 9.5/12.8 MB 818.3 kB/s eta 0:00:05\n",
      "     ----------------------------- --------- 9.6/12.8 MB 818.5 kB/s eta 0:00:04\n",
      "     ----------------------------- --------- 9.6/12.8 MB 817.7 kB/s eta 0:00:04\n",
      "     ----------------------------- --------- 9.7/12.8 MB 817.7 kB/s eta 0:00:04\n",
      "     ----------------------------- --------- 9.7/12.8 MB 818.1 kB/s eta 0:00:04\n",
      "     ----------------------------- --------- 9.7/12.8 MB 819.2 kB/s eta 0:00:04\n",
      "     ----------------------------- --------- 9.8/12.8 MB 820.3 kB/s eta 0:00:04\n",
      "     ----------------------------- --------- 9.8/12.8 MB 821.3 kB/s eta 0:00:04\n",
      "     ------------------------------ -------- 9.9/12.8 MB 822.4 kB/s eta 0:00:04\n",
      "     ----------------------------- -------- 10.0/12.8 MB 823.2 kB/s eta 0:00:04\n",
      "     ----------------------------- -------- 10.0/12.8 MB 824.3 kB/s eta 0:00:04\n",
      "     ----------------------------- -------- 10.1/12.8 MB 826.1 kB/s eta 0:00:04\n",
      "     ------------------------------ ------- 10.1/12.8 MB 828.8 kB/s eta 0:00:04\n",
      "     ------------------------------ ------- 10.2/12.8 MB 830.7 kB/s eta 0:00:04\n",
      "     ------------------------------ ------- 10.3/12.8 MB 852.5 kB/s eta 0:00:03\n",
      "     ------------------------------ ------- 10.3/12.8 MB 860.4 kB/s eta 0:00:03\n",
      "     ------------------------------ ------- 10.4/12.8 MB 860.4 kB/s eta 0:00:03\n",
      "     ------------------------------ ------- 10.4/12.8 MB 860.4 kB/s eta 0:00:03\n",
      "     ------------------------------ ------- 10.4/12.8 MB 860.4 kB/s eta 0:00:03\n",
      "     ------------------------------ ------- 10.4/12.8 MB 860.4 kB/s eta 0:00:03\n",
      "     ------------------------------ ------- 10.4/12.8 MB 860.4 kB/s eta 0:00:03\n",
      "     ------------------------------ ------- 10.4/12.8 MB 860.4 kB/s eta 0:00:03\n",
      "     ------------------------------ ------- 10.4/12.8 MB 860.4 kB/s eta 0:00:03\n",
      "     ------------------------------ ------- 10.4/12.8 MB 860.4 kB/s eta 0:00:03\n",
      "     ------------------------------- ------ 10.5/12.8 MB 835.1 kB/s eta 0:00:03\n",
      "     ------------------------------- ------ 10.5/12.8 MB 831.9 kB/s eta 0:00:03\n",
      "     ------------------------------- ------ 10.5/12.8 MB 829.8 kB/s eta 0:00:03\n",
      "     ------------------------------- ------ 10.5/12.8 MB 826.6 kB/s eta 0:00:03\n",
      "     ------------------------------- ------ 10.6/12.8 MB 823.5 kB/s eta 0:00:03\n",
      "     ------------------------------- ------ 10.7/12.8 MB 822.5 kB/s eta 0:00:03\n",
      "     ------------------------------- ------ 10.8/12.8 MB 820.5 kB/s eta 0:00:03\n",
      "     -------------------------------- ----- 10.8/12.8 MB 817.4 kB/s eta 0:00:03\n",
      "     -------------------------------- ----- 10.9/12.8 MB 816.3 kB/s eta 0:00:03\n",
      "     -------------------------------- ----- 11.0/12.8 MB 814.3 kB/s eta 0:00:03\n",
      "     -------------------------------- ----- 11.0/12.8 MB 811.2 kB/s eta 0:00:03\n",
      "     -------------------------------- ----- 11.1/12.8 MB 819.4 kB/s eta 0:00:03\n",
      "     --------------------------------- ---- 11.2/12.8 MB 817.4 kB/s eta 0:00:03\n",
      "     --------------------------------- ---- 11.2/12.8 MB 813.3 kB/s eta 0:00:02\n",
      "     --------------------------------- ---- 11.2/12.8 MB 810.3 kB/s eta 0:00:02\n",
      "     --------------------------------- ---- 11.3/12.8 MB 807.3 kB/s eta 0:00:02\n",
      "     --------------------------------- ---- 11.3/12.8 MB 804.4 kB/s eta 0:00:02\n",
      "     --------------------------------- ---- 11.4/12.8 MB 800.4 kB/s eta 0:00:02\n",
      "     ---------------------------------- --- 11.5/12.8 MB 800.4 kB/s eta 0:00:02\n",
      "     ---------------------------------- --- 11.5/12.8 MB 797.5 kB/s eta 0:00:02\n",
      "     ---------------------------------- --- 11.5/12.8 MB 796.5 kB/s eta 0:00:02\n",
      "     ---------------------------------- --- 11.5/12.8 MB 796.5 kB/s eta 0:00:02\n",
      "     ---------------------------------- --- 11.5/12.8 MB 796.5 kB/s eta 0:00:02\n",
      "     ---------------------------------- --- 11.5/12.8 MB 796.5 kB/s eta 0:00:02\n",
      "     ---------------------------------- --- 11.5/12.8 MB 796.5 kB/s eta 0:00:02\n",
      "     ---------------------------------- --- 11.5/12.8 MB 796.5 kB/s eta 0:00:02\n",
      "     ---------------------------------- --- 11.5/12.8 MB 796.5 kB/s eta 0:00:02\n",
      "     ---------------------------------- --- 11.6/12.8 MB 772.1 kB/s eta 0:00:02\n",
      "     ---------------------------------- --- 11.6/12.8 MB 772.1 kB/s eta 0:00:02\n",
      "     ---------------------------------- --- 11.6/12.8 MB 767.5 kB/s eta 0:00:02\n",
      "     ---------------------------------- --- 11.6/12.8 MB 763.9 kB/s eta 0:00:02\n",
      "     ---------------------------------- --- 11.6/12.8 MB 760.4 kB/s eta 0:00:02\n",
      "     ---------------------------------- --- 11.7/12.8 MB 756.9 kB/s eta 0:00:02\n",
      "     ---------------------------------- --- 11.7/12.8 MB 754.2 kB/s eta 0:00:02\n",
      "     ---------------------------------- --- 11.8/12.8 MB 755.1 kB/s eta 0:00:02\n",
      "     ----------------------------------- -- 11.9/12.8 MB 752.6 kB/s eta 0:00:02\n",
      "     ----------------------------------- -- 11.9/12.8 MB 750.0 kB/s eta 0:00:02\n",
      "     ----------------------------------- -- 12.0/12.8 MB 747.4 kB/s eta 0:00:02\n",
      "     ----------------------------------- -- 12.1/12.8 MB 744.0 kB/s eta 0:00:01\n",
      "     ------------------------------------ - 12.1/12.8 MB 742.3 kB/s eta 0:00:01\n",
      "     ------------------------------------ - 12.2/12.8 MB 740.6 kB/s eta 0:00:01\n",
      "     ------------------------------------ - 12.3/12.8 MB 739.8 kB/s eta 0:00:01\n",
      "     ------------------------------------ - 12.4/12.8 MB 739.8 kB/s eta 0:00:01\n",
      "     ------------------------------------ - 12.5/12.8 MB 738.1 kB/s eta 0:00:01\n",
      "     -------------------------------------  12.5/12.8 MB 737.3 kB/s eta 0:00:01\n",
      "     -------------------------------------  12.7/12.8 MB 735.6 kB/s eta 0:00:01\n",
      "     -------------------------------------  12.8/12.8 MB 734.8 kB/s eta 0:00:01\n",
      "     -------------------------------------  12.8/12.8 MB 733.9 kB/s eta 0:00:01\n",
      "     -------------------------------------  12.8/12.8 MB 733.9 kB/s eta 0:00:01\n",
      "     -------------------------------------- 12.8/12.8 MB 727.1 kB/s eta 0:00:00\n",
      "\u001b[38;5;2m[+] Download and installation successful\u001b[0m\n",
      "You can now load the package via spacy.load('en_core_web_sm')\n"
     ]
    }
   ],
   "source": [
    "# Install dependencies (run only once)\n",
    "!pip install transformers datasets spacy scikit-learn\n",
    "!python -m spacy download en_core_web_sm"
   ]
  },
  {
   "cell_type": "code",
   "execution_count": 2,
   "metadata": {},
   "outputs": [
    {
     "name": "stderr",
     "output_type": "stream",
     "text": [
      "Found cached dataset parquet (C:/Users/Arhum/.cache/huggingface/datasets/parquet/1.0.0-9039e3832de1dbcc/0.0.0/2a3b91fbd88a2c90d1dbbb32b460cf621d31bd5b05b934492fdef7d8d6f236ec)\n"
     ]
    },
    {
     "data": {
      "application/vnd.jupyter.widget-view+json": {
       "model_id": "99c7d99af67946de89602eabb744f158",
       "version_major": 2,
       "version_minor": 0
      },
      "text/plain": [
       "  0%|          | 0/3 [00:00<?, ?it/s]"
      ]
     },
     "metadata": {},
     "output_type": "display_data"
    },
    {
     "name": "stdout",
     "output_type": "stream",
     "text": [
      "Sample Article:\n",
      " LONDON, England (Reuters) -- Harry Potter star Daniel Radcliffe gains access to a reported £20 million ($41.1 million) fortune as he turns 18 on Monday, but he insists the money won't cast a spell on him. Daniel Radcliffe as Harry Potter in \"Harry Potter and the Order of the Phoenix\" To the disappointment of gossip columnists around the world, the young actor says he has no plans to fritter his cash away on fast cars, drink and celebrity parties. \"I don't plan to be one of those people who, as s\n",
      "\n",
      "Reference Summary:\n",
      " Harry Potter star Daniel Radcliffe gets £20M fortune as he turns 18 Monday . Young actor says he has no plans to fritter his cash away . Radcliffe's earnings from first five Potter films have been held in trust fund .\n"
     ]
    }
   ],
   "source": [
    "# Load Dataset\n",
    "from datasets import load_dataset\n",
    "dataset = load_dataset(\"cnn_dailymail\", \"3.0.0\",verification_mode=\"no_checks\")\n",
    "train_data = dataset['train'].select(range(100))  # Using subset for speed\n",
    "\n",
    "# Sample article and reference summary\n",
    "article = train_data[0]['article']\n",
    "reference = train_data[0]['highlights']\n",
    "print(\"Sample Article:\\n\", article[:500])\n",
    "print(\"\\nReference Summary:\\n\", reference)"
   ]
  },
  {
   "cell_type": "markdown",
   "metadata": {},
   "source": [
    "## Extractive Summarization using spaCy + TF-IDF"
   ]
  },
  {
   "cell_type": "code",
   "execution_count": 3,
   "metadata": {},
   "outputs": [
    {
     "name": "stdout",
     "output_type": "stream",
     "text": [
      "Extractive Summary:\n",
      " Daniel Radcliffe as Harry Potter in \"Harry Potter and the Order of the Phoenix\" To the disappointment of gossip columnists around the world, the young actor says he has no plans to fritter his cash away on fast cars, drink and celebrity parties. \"I don't plan to be one of those people who, as soon as they turn 18, suddenly buy themselves a massive sports car collection or something similar,\" he told an Australian interviewer earlier this month. At 18, Radcliffe will be able to gamble in a casino, buy a drink in a pub or see the horror film \"Hostel: Part II,\" currently six places below his number one movie on the UK box office chart.\n"
     ]
    }
   ],
   "source": [
    "import spacy\n",
    "from sklearn.feature_extraction.text import TfidfVectorizer\n",
    "import numpy as np\n",
    "\n",
    "nlp = spacy.load(\"en_core_web_sm\")\n",
    "\n",
    "def extractive_summary(article, top_n=3):\n",
    "    doc = nlp(article)\n",
    "    sentences = [sent.text.strip() for sent in doc.sents if len(sent.text.strip()) > 20]\n",
    "    vectorizer = TfidfVectorizer()\n",
    "    X = vectorizer.fit_transform(sentences)\n",
    "    sentence_scores = np.array(X.sum(axis=1)).flatten()\n",
    "    top_indices = sentence_scores.argsort()[-top_n:][::-1]\n",
    "    summary = ' '.join([sentences[i] for i in sorted(top_indices)])\n",
    "    return summary\n",
    "\n",
    "print(\"Extractive Summary:\\n\", extractive_summary(article))"
   ]
  },
  {
   "cell_type": "code",
   "execution_count": 4,
   "metadata": {},
   "outputs": [
    {
     "name": "stdout",
     "output_type": "stream",
     "text": [
      "Requirement already satisfied: torch in c:\\users\\arhum\\anaconda3\\lib\\site-packages (2.7.0)\n",
      "Requirement already satisfied: filelock in c:\\users\\arhum\\anaconda3\\lib\\site-packages (from torch) (3.9.0)\n",
      "Requirement already satisfied: typing-extensions>=4.10.0 in c:\\users\\arhum\\anaconda3\\lib\\site-packages (from torch) (4.13.2)\n",
      "Requirement already satisfied: sympy>=1.13.3 in c:\\users\\arhum\\anaconda3\\lib\\site-packages (from torch) (1.14.0)\n",
      "Requirement already satisfied: networkx in c:\\users\\arhum\\anaconda3\\lib\\site-packages (from torch) (3.1)\n",
      "Requirement already satisfied: jinja2 in c:\\users\\arhum\\anaconda3\\lib\\site-packages (from torch) (3.1.2)\n",
      "Requirement already satisfied: fsspec in c:\\users\\arhum\\anaconda3\\lib\\site-packages (from torch) (2023.4.0)\n",
      "Requirement already satisfied: mpmath<1.4,>=1.1.0 in c:\\users\\arhum\\anaconda3\\lib\\site-packages (from sympy>=1.13.3->torch) (1.3.0)\n",
      "Requirement already satisfied: MarkupSafe>=2.0 in c:\\users\\arhum\\anaconda3\\lib\\site-packages (from jinja2->torch) (2.1.1)\n"
     ]
    }
   ],
   "source": [
    "!pip install torch"
   ]
  },
  {
   "cell_type": "code",
   "execution_count": 5,
   "metadata": {},
   "outputs": [
    {
     "name": "stdout",
     "output_type": "stream",
     "text": [
      "Requirement already satisfied: typing_extensions in c:\\users\\arhum\\anaconda3\\lib\\site-packages (4.13.2)\n",
      "Note: you may need to restart the kernel to use updated packages.\n"
     ]
    }
   ],
   "source": [
    "pip install --upgrade typing_extensions\n"
   ]
  },
  {
   "cell_type": "code",
   "execution_count": 6,
   "metadata": {},
   "outputs": [
    {
     "name": "stdout",
     "output_type": "stream",
     "text": [
      "2.7.0+cpu\n",
      "CUDA available: False\n"
     ]
    }
   ],
   "source": [
    "import torch\n",
    "print(torch.__version__)\n",
    "print(\"CUDA available:\", torch.cuda.is_available())\n"
   ]
  },
  {
   "cell_type": "code",
   "execution_count": 7,
   "metadata": {},
   "outputs": [
    {
     "name": "stderr",
     "output_type": "stream",
     "text": [
      "C:\\Users\\Arhum\\anaconda3\\Lib\\site-packages\\transformers\\utils\\generic.py:260: FutureWarning: `torch.utils._pytree._register_pytree_node` is deprecated. Please use `torch.utils._pytree.register_pytree_node` instead.\n",
      "  torch.utils._pytree._register_pytree_node(\n"
     ]
    },
    {
     "data": {
      "application/vnd.jupyter.widget-view+json": {
       "model_id": "9fd6f4c07a874503a8ac201c0e21a927",
       "version_major": 2,
       "version_minor": 0
      },
      "text/plain": [
       "Downloading model.safetensors:   0%|          | 0.00/1.63G [00:00<?, ?B/s]"
      ]
     },
     "metadata": {},
     "output_type": "display_data"
    },
    {
     "name": "stderr",
     "output_type": "stream",
     "text": [
      "C:\\Users\\Arhum\\anaconda3\\Lib\\site-packages\\huggingface_hub\\file_download.py:133: UserWarning: `huggingface_hub` cache-system uses symlinks by default to efficiently store duplicated files but your machine does not support them in C:\\Users\\Arhum\\.cache\\huggingface\\hub. Caching files will still work but in a degraded version that might require more space on your disk. This warning can be disabled by setting the `HF_HUB_DISABLE_SYMLINKS_WARNING` environment variable. For more details, see https://huggingface.co/docs/huggingface_hub/how-to-cache#limitations.\n",
      "To support symlinks on Windows, you either need to activate Developer Mode or to run Python as an administrator. In order to see activate developer mode, see this article: https://docs.microsoft.com/en-us/windows/apps/get-started/enable-your-device-for-development\n",
      "  warnings.warn(message)\n"
     ]
    },
    {
     "data": {
      "application/vnd.jupyter.widget-view+json": {
       "model_id": "06ce3be6cd314300848d89c3f1cbbb02",
       "version_major": 2,
       "version_minor": 0
      },
      "text/plain": [
       "Downloading generation_config.json:   0%|          | 0.00/363 [00:00<?, ?B/s]"
      ]
     },
     "metadata": {},
     "output_type": "display_data"
    },
    {
     "data": {
      "application/vnd.jupyter.widget-view+json": {
       "model_id": "84a9a58500c74074bc00d8aa6671253a",
       "version_major": 2,
       "version_minor": 0
      },
      "text/plain": [
       "Downloading vocab.json:   0%|          | 0.00/899k [00:00<?, ?B/s]"
      ]
     },
     "metadata": {},
     "output_type": "display_data"
    },
    {
     "data": {
      "application/vnd.jupyter.widget-view+json": {
       "model_id": "6d361a5a96c746b5a4fd37ff313059cf",
       "version_major": 2,
       "version_minor": 0
      },
      "text/plain": [
       "Downloading merges.txt:   0%|          | 0.00/456k [00:00<?, ?B/s]"
      ]
     },
     "metadata": {},
     "output_type": "display_data"
    },
    {
     "data": {
      "application/vnd.jupyter.widget-view+json": {
       "model_id": "4704f1be5afe4813bd6e2770e1f5c9f6",
       "version_major": 2,
       "version_minor": 0
      },
      "text/plain": [
       "Downloading tokenizer.json:   0%|          | 0.00/1.36M [00:00<?, ?B/s]"
      ]
     },
     "metadata": {},
     "output_type": "display_data"
    },
    {
     "name": "stdout",
     "output_type": "stream",
     "text": [
      "Abstractive Summary:\n",
      " Harry Potter star Daniel Radcliffe turns 18 on Monday. He gains access to a reported £20 million ($41.1 million) fortune. Radcliffe says he has no plans to fritter his cash away on fast cars, drink.\n"
     ]
    }
   ],
   "source": [
    "from transformers import pipeline\n",
    "\n",
    "summarizer = pipeline(\"summarization\", model=\"facebook/bart-large-cnn\")\n",
    "\n",
    "def abstractive_summary(text):\n",
    "    return summarizer(text, max_length=130, min_length=30, do_sample=False)[0]['summary_text']\n",
    "\n",
    "print(\"Abstractive Summary:\\n\", abstractive_summary(article[:1024]))"
   ]
  },
  {
   "cell_type": "code",
   "execution_count": 9,
   "metadata": {},
   "outputs": [
    {
     "name": "stdout",
     "output_type": "stream",
     "text": [
      "Collecting rouge-score\n",
      "  Downloading rouge_score-0.1.2.tar.gz (17 kB)\n",
      "  Preparing metadata (setup.py): started\n",
      "  Preparing metadata (setup.py): finished with status 'done'\n",
      "Collecting absl-py\n",
      "  Obtaining dependency information for absl-py from https://files.pythonhosted.org/packages/f6/d4/349f7f4bd5ea92dab34f5bb0fe31775ef6c311427a14d5a5b31ecb442341/absl_py-2.2.2-py3-none-any.whl.metadata\n",
      "  Downloading absl_py-2.2.2-py3-none-any.whl.metadata (2.6 kB)\n",
      "Requirement already satisfied: nltk in c:\\users\\arhum\\anaconda3\\lib\\site-packages (from rouge-score) (3.8.1)\n",
      "Requirement already satisfied: numpy in c:\\users\\arhum\\anaconda3\\lib\\site-packages (from rouge-score) (1.24.3)\n",
      "Requirement already satisfied: six>=1.14.0 in c:\\users\\arhum\\anaconda3\\lib\\site-packages (from rouge-score) (1.16.0)\n",
      "Requirement already satisfied: click in c:\\users\\arhum\\anaconda3\\lib\\site-packages (from nltk->rouge-score) (8.0.4)\n",
      "Requirement already satisfied: joblib in c:\\users\\arhum\\anaconda3\\lib\\site-packages (from nltk->rouge-score) (1.2.0)\n",
      "Requirement already satisfied: regex>=2021.8.3 in c:\\users\\arhum\\anaconda3\\lib\\site-packages (from nltk->rouge-score) (2022.7.9)\n",
      "Requirement already satisfied: tqdm in c:\\users\\arhum\\anaconda3\\lib\\site-packages (from nltk->rouge-score) (4.65.0)\n",
      "Requirement already satisfied: colorama in c:\\users\\arhum\\anaconda3\\lib\\site-packages (from click->nltk->rouge-score) (0.4.6)\n",
      "Downloading absl_py-2.2.2-py3-none-any.whl (135 kB)\n",
      "   ---------------------------------------- 0.0/135.6 kB ? eta -:--:--\n",
      "   --- ------------------------------------ 10.2/135.6 kB ? eta -:--:--\n",
      "   ----------- --------------------------- 41.0/135.6 kB 495.5 kB/s eta 0:00:01\n",
      "   ---------------------------------------  133.1/135.6 kB 1.1 MB/s eta 0:00:01\n",
      "   ---------------------------------------- 135.6/135.6 kB 1.0 MB/s eta 0:00:00\n",
      "Building wheels for collected packages: rouge-score\n",
      "  Building wheel for rouge-score (setup.py): started\n",
      "  Building wheel for rouge-score (setup.py): finished with status 'done'\n",
      "  Created wheel for rouge-score: filename=rouge_score-0.1.2-py3-none-any.whl size=24972 sha256=21a73e229468f8cf9b7a30c01d629f83f5a1dd6f22c38518a7e563518584a26f\n",
      "  Stored in directory: c:\\users\\arhum\\appdata\\local\\pip\\cache\\wheels\\1e\\19\\43\\8a442dc83660ca25e163e1bd1f89919284ab0d0c1475475148\n",
      "Successfully built rouge-score\n",
      "Installing collected packages: absl-py, rouge-score\n",
      "Successfully installed absl-py-2.2.2 rouge-score-0.1.2\n"
     ]
    }
   ],
   "source": [
    "!pip install rouge-score absl-py"
   ]
  },
  {
   "cell_type": "markdown",
   "metadata": {},
   "source": [
    "## Abstractive Summarization using BART"
   ]
  },
  {
   "cell_type": "markdown",
   "metadata": {},
   "source": [
    "## Evaluation using ROUGE"
   ]
  },
  {
   "cell_type": "code",
   "execution_count": 10,
   "metadata": {},
   "outputs": [
    {
     "name": "stdout",
     "output_type": "stream",
     "text": [
      "ROUGE Scores:\n",
      " {'rouge1': AggregateScore(low=Score(precision=0.5833333333333334, recall=0.5384615384615384, fmeasure=0.5599999999999999), mid=Score(precision=0.5833333333333334, recall=0.5384615384615384, fmeasure=0.5599999999999999), high=Score(precision=0.5833333333333334, recall=0.5384615384615384, fmeasure=0.5599999999999999)), 'rouge2': AggregateScore(low=Score(precision=0.4, recall=0.3684210526315789, fmeasure=0.3835616438356164), mid=Score(precision=0.4, recall=0.3684210526315789, fmeasure=0.3835616438356164), high=Score(precision=0.4, recall=0.3684210526315789, fmeasure=0.3835616438356164)), 'rougeL': AggregateScore(low=Score(precision=0.5, recall=0.46153846153846156, fmeasure=0.48000000000000004), mid=Score(precision=0.5, recall=0.46153846153846156, fmeasure=0.48000000000000004), high=Score(precision=0.5, recall=0.46153846153846156, fmeasure=0.48000000000000004)), 'rougeLsum': AggregateScore(low=Score(precision=0.5, recall=0.46153846153846156, fmeasure=0.48000000000000004), mid=Score(precision=0.5, recall=0.46153846153846156, fmeasure=0.48000000000000004), high=Score(precision=0.5, recall=0.46153846153846156, fmeasure=0.48000000000000004))}\n"
     ]
    }
   ],
   "source": [
    "from datasets import load_metric\n",
    "\n",
    "rouge = load_metric(\"rouge\")\n",
    "generated = abstractive_summary(article[:1024])\n",
    "scores = rouge.compute(predictions=[generated], references=[reference])\n",
    "print(\"ROUGE Scores:\\n\", scores)"
   ]
  }
 ],
 "metadata": {
  "kernelspec": {
   "display_name": "Python 3 (ipykernel)",
   "language": "python",
   "name": "python3"
  },
  "language_info": {
   "codemirror_mode": {
    "name": "ipython",
    "version": 3
   },
   "file_extension": ".py",
   "mimetype": "text/x-python",
   "name": "python",
   "nbconvert_exporter": "python",
   "pygments_lexer": "ipython3",
   "version": "3.11.5"
  }
 },
 "nbformat": 4,
 "nbformat_minor": 4
}
